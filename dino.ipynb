{
  "nbformat": 4,
  "nbformat_minor": 0,
  "metadata": {
    "colab": {
      "provenance": [],
      "collapsed_sections": [],
      "authorship_tag": "ABX9TyPznysF6u3ejJJVH3ILIQeS",
      "include_colab_link": true
    },
    "kernelspec": {
      "name": "python3",
      "display_name": "Python 3"
    },
    "language_info": {
      "name": "python"
    }
  },
  "cells": [
    {
      "cell_type": "markdown",
      "metadata": {
        "id": "view-in-github",
        "colab_type": "text"
      },
      "source": [
        "<a href=\"https://colab.research.google.com/github/Dhananjay42/crackseg9k/blob/main/dino.ipynb\" target=\"_parent\"><img src=\"https://colab.research.google.com/assets/colab-badge.svg\" alt=\"Open In Colab\"/></a>"
      ]
    },
    {
      "cell_type": "markdown",
      "source": [
        "#Generating Heads using DINO\n",
        "\n",
        "1. Clone the DINO repo:"
      ],
      "metadata": {
        "id": "klwT1wtg1tJm"
      }
    },
    {
      "cell_type": "code",
      "execution_count": 7,
      "metadata": {
        "colab": {
          "base_uri": "https://localhost:8080/"
        },
        "id": "P4jsH1RH1YuJ",
        "outputId": "88bfdb3c-c92d-44a1-bc53-d9dadeef8eaf"
      },
      "outputs": [
        {
          "output_type": "stream",
          "name": "stdout",
          "text": [
            "Cloning into 'dino'...\n",
            "remote: Enumerating objects: 168, done.\u001b[K\n",
            "remote: Total 168 (delta 0), reused 0 (delta 0), pack-reused 168\u001b[K\n",
            "Receiving objects: 100% (168/168), 24.44 MiB | 23.43 MiB/s, done.\n",
            "Resolving deltas: 100% (106/106), done.\n",
            "/content/dino\n"
          ]
        }
      ],
      "source": [
        "!git clone https://github.com/facebookresearch/dino.git\n",
        "%cd dino/"
      ]
    },
    {
      "cell_type": "markdown",
      "source": [
        "2. Import the required libraries"
      ],
      "metadata": {
        "id": "2xYfNUu216Nq"
      }
    },
    {
      "cell_type": "code",
      "source": [
        "import cv2\n",
        "from IPython.display import clear_output \n",
        "import glob\n",
        "import os"
      ],
      "metadata": {
        "id": "ZbWs5t1x18cm"
      },
      "execution_count": 2,
      "outputs": []
    },
    {
      "cell_type": "markdown",
      "source": [
        "3. Enter the directories"
      ],
      "metadata": {
        "id": "O_yJxtl14jjy"
      }
    },
    {
      "cell_type": "code",
      "source": [
        "from google.colab import drive\n",
        "drive.mount('/content/gdrive')"
      ],
      "metadata": {
        "colab": {
          "base_uri": "https://localhost:8080/"
        },
        "id": "857sOctd6NB5",
        "outputId": "dc92e02e-78c0-486a-b85a-c78df55144f3"
      },
      "execution_count": 5,
      "outputs": [
        {
          "output_type": "stream",
          "name": "stdout",
          "text": [
            "Mounted at /content/gdrive\n"
          ]
        }
      ]
    },
    {
      "cell_type": "code",
      "source": [
        "input_directory = '/content/gdrive/MyDrive/CrackGAN/Crack-dataset/test2/images/' #Enter input directory here\n",
        "output_directory = '/content/gdrive/MyDrive/CrackGAN/Crack-dataset/test2/Out/' #Enter output directory here"
      ],
      "metadata": {
        "id": "8CKg6LU51-b6"
      },
      "execution_count": 15,
      "outputs": []
    },
    {
      "cell_type": "code",
      "source": [
        "%cd /content/dino"
      ],
      "metadata": {
        "colab": {
          "base_uri": "https://localhost:8080/"
        },
        "id": "66TyM9et3Zc8",
        "outputId": "d2c44ae8-024c-4806-b607-ba63845dcb9d"
      },
      "execution_count": 9,
      "outputs": [
        {
          "output_type": "stream",
          "name": "stdout",
          "text": [
            "/content/dino\n"
          ]
        }
      ]
    },
    {
      "cell_type": "code",
      "source": [
        "list = glob.glob(input_directory + '*.png')"
      ],
      "metadata": {
        "id": "jQKPRfji4SfI"
      },
      "execution_count": 16,
      "outputs": []
    },
    {
      "cell_type": "markdown",
      "source": [
        "4. Iterate through all the images"
      ],
      "metadata": {
        "id": "jYhPUD1W4nl2"
      }
    },
    {
      "cell_type": "code",
      "source": [
        "count = 1\n",
        "feature = 0\n",
        "for image in list:\n",
        "  print(f'Image {count} out of {len(list)}')\n",
        "  inp_image = cv2.imread(image)\n",
        "  cv2.imwrite('...',inp_image) #Enter a temporary location to store the image. We have used '/content/dino/temp.jpg'.\n",
        "  !python visualize_attention.py --image_path ... #Use the same path as above here. \n",
        "  feature = cv2.imread('<...>/dino/attn-head3.png',0) #Read the image from wherever you have cloned the above repo.\n",
        "  image_name = os.path.basename(image)\n",
        "  out_path = output_directory + image_name\n",
        "  f = cv2.imwrite(out_path, feature)\n",
        "  if f is False:\n",
        "    print('Check your directory.')\n",
        "  count = count + 1\n",
        "  clear_output()\n"
      ],
      "metadata": {
        "id": "szkWqScJ2v5r"
      },
      "execution_count": 21,
      "outputs": []
    }
  ]
}